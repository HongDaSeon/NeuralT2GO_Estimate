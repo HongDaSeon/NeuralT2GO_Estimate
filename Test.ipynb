{
 "cells": [
  {
   "cell_type": "code",
   "execution_count": 9,
   "metadata": {},
   "outputs": [],
   "source": [
    "# Missile_Environment for Reinforcement Learning\n",
    "#    v-1.6\n",
    "#       LPF available\n",
    "#       Normalize all state\n",
    "\n",
    "import vpython as vp\n",
    "\n",
    "import math as m\n",
    "import numpy as np\n",
    "import torch\n",
    "import torchvision\n",
    "import torch.nn as nn\n",
    "import torchvision.transforms as transforms\n",
    "import time\n",
    "import copy\n",
    "import Missile_ENV_V_3_Ldot_Vm_ideal as ENV\n",
    "\n",
    "rad2deg         = 57.29577951\n",
    "deg2rad         = 0.01745329252\n",
    "gpu_num         = 0"
   ]
  },
  {
   "cell_type": "code",
   "execution_count": 10,
   "metadata": {},
   "outputs": [],
   "source": [
    "device      = ('cuda'+':'+ str(gpu_num)) if torch.cuda.is_available() else 'cpu'\n",
    "torch.manual_seed(777)\n",
    "if device == ('cuda'+ ':' + str(gpu_num)):\n",
    "    torch.cuda.manual_seed_all(777)"
   ]
  },
  {
   "cell_type": "code",
   "execution_count": 11,
   "metadata": {},
   "outputs": [],
   "source": [
    "class DNN(nn.Module):\n",
    "    def __init__(self):\n",
    "        super(DNN, self).__init__()\n",
    "        \n",
    "        self.fc1     = nn.Linear(4, 150, bias = True)    \n",
    "        self.relu1   = nn.ReLU()\n",
    "        self.fc2     = nn.Linear(150, 300, bias = True) \n",
    "        self.relu2   = nn.ReLU()\n",
    "        self.fc3     = nn.Linear(300, 500, bias = True)\n",
    "        self.relu3   = nn.ReLU()\n",
    "        self.fc4     = nn.Linear(500, 300, bias = True)\n",
    "        self.relu4   = nn.ReLU()\n",
    "        self.fc5     = nn.Linear(300, 150, bias = True)\n",
    "        self.relu5   = nn.ReLU()\n",
    "        self.fc6     = nn.Linear(150, 1, bias = True)\n",
    "        \n",
    "        torch.nn.init.xavier_uniform_(self.fc1.weight)\n",
    "        torch.nn.init.xavier_uniform_(self.fc2.weight)\n",
    "        torch.nn.init.xavier_uniform_(self.fc3.weight)\n",
    "        torch.nn.init.xavier_uniform_(self.fc4.weight)\n",
    "        torch.nn.init.xavier_uniform_(self.fc5.weight)\n",
    "        torch.nn.init.xavier_uniform_(self.fc6.weight)\n",
    "        \n",
    "    def forward(self, x):\n",
    "        \n",
    "        out = self.fc1(x)\n",
    "        out = self.relu1(out)\n",
    "        \n",
    "        out = self.fc2(out)\n",
    "        out = self.relu2(out)\n",
    "        \n",
    "        out = self.fc3(out)\n",
    "        out = self.relu3(out)\n",
    "        \n",
    "        out = self.fc4(out)\n",
    "        out = self.relu4(out)\n",
    "        \n",
    "        out = self.fc5(out)\n",
    "        out = self.relu5(out)\n",
    "        \n",
    "        out = self.fc6(out)\n",
    "        \n",
    "        return out"
   ]
  },
  {
   "cell_type": "code",
   "execution_count": 17,
   "metadata": {},
   "outputs": [],
   "source": [
    "def ITCG(Vm, R, lam_psi, N, d_lam, s, k1):\n",
    "    acp1 = (-Vm*(lam_psi)*m.cos(lam_psi))/2/R\n",
    "    acp2 = (Vm*(2*N-1)*(1-m.cos(lam_psi)))/R/(lam_psi)\n",
    "    sterm = k1*lam_psi*s\n",
    "    a_c = d_lam+acp1+acp2+sterm\n",
    "    aM = a_c*Vm\n",
    "    return aM\n",
    "\n",
    "def get_look(seeker):\n",
    "    return seeker.LOS\n",
    "\n",
    "def get_dlam(Vm,R,look):\n",
    "    return Vm/R*m.sin(look)\n",
    "\n",
    "def get_analytic_T2go(look, N, Rmag, Vm):\n",
    "    return (1+((look)**2)/2/(2*N-1))*Rmag/Vm\n",
    "\n",
    "def get_neural_T2go(model):\n",
    "    return 'asdfasdf'\n",
    "\n",
    "def get_s(t, t_d, t2go):\n",
    "    return t - t_d + t2go\n",
    "\n",
    "def get_k():\n",
    "    return 1\n"
   ]
  },
  {
   "cell_type": "code",
   "execution_count": 12,
   "metadata": {},
   "outputs": [
    {
     "output_type": "execute_result",
     "data": {
      "text/plain": [
       "DNN(\n",
       "  (fc1): Linear(in_features=4, out_features=150, bias=True)\n",
       "  (relu1): ReLU()\n",
       "  (fc2): Linear(in_features=150, out_features=300, bias=True)\n",
       "  (relu2): ReLU()\n",
       "  (fc3): Linear(in_features=300, out_features=500, bias=True)\n",
       "  (relu3): ReLU()\n",
       "  (fc4): Linear(in_features=500, out_features=300, bias=True)\n",
       "  (relu4): ReLU()\n",
       "  (fc5): Linear(in_features=300, out_features=150, bias=True)\n",
       "  (relu5): ReLU()\n",
       "  (fc6): Linear(in_features=150, out_features=1, bias=True)\n",
       ")"
      ]
     },
     "metadata": {},
     "execution_count": 12
    }
   ],
   "source": [
    "model = DNN().to(device)\n",
    "model.load_state_dict(torch.load('./WEIGHT_8.2560e-07_notquite', map_location=torch.device('cpu')))\n",
    "model.eval()\n",
    "model.train(False)\n"
   ]
  },
  {
   "cell_type": "code",
   "execution_count": 13,
   "metadata": {},
   "outputs": [],
   "source": [
    "DATmean     = np.array([ 5.0023467e+03,-1.5984995e+00,1.1228751e+02,1.7544924e+00,2.1465954e+01],dtype='float32')\n",
    "STDmean     = np.array([ 5.5374233e+03, 1.7694662e+00,1.6407622e+02,1.4172097e+00,2.4340271e+01],dtype='float32')"
   ]
  },
  {
   "cell_type": "code",
   "execution_count": 16,
   "metadata": {},
   "outputs": [],
   "source": [
    "initpos    = [5000., 3200.]\n",
    "scavel       = 250.\n",
    "initpsi     = deg2rad*150\n",
    "dt          = 0.01\n",
    "Missile1    = ENV.Missile_2D(scavel, initpos[0], initpos[1], initpsi, dt)\n",
    "TargetShip  = ENV.TargetShip(0., 0., 0., 0.)\n",
    "Missile1EYE = ENV.Seeker(Missile1, TargetShip)"
   ]
  },
  {
   "cell_type": "code",
   "execution_count": null,
   "metadata": {},
   "outputs": [],
   "source": [
    "mode = 'n' #stands for neural\n",
    "mode = 'a' #stands for analytic\n",
    "with torch.no_grad():\n",
    "    \n",
    "    if mode == 'a':\n",
    "        while true:\n",
    "            acc = ITCG( Missile1.scavel,\\\n",
    "                        MissileEYE.R,\\\n",
    "                        get_look(MissileEYE),\\\n",
    "                        N,\\\n",
    "                        get_dlam(Missile1.scavel, MissileEYE.R, lookget_look(MissileEYE)),\\\n",
    "                        get_s(t, t_d, t2go),\\\n",
    "                        1)"
   ]
  },
  {
   "cell_type": "code",
   "execution_count": null,
   "metadata": {},
   "outputs": [],
   "source": [
    "noise_deviation = 0.1\n",
    "\n",
    "testFilename = '/home/workstation2/Daseon/DeepMonopulse/datTest_noNoise_Table2_10000.csv'\n",
    "ff = open(testFilename,'r')\n",
    "Reader = csv.reader(ff)\n",
    "testDataset_raw = []\n",
    "for row in Reader:\n",
    "    testDataset_raw.append(row)\n",
    "testDataset_raw = np.array(testDataset_raw, dtype='float32')\n",
    "ff.close()\n",
    "\n",
    "constpart  = copy.deepcopy(testDataset_raw[:, :2])\n",
    "signpart   = copy.deepcopy(testDataset_raw[:, 2:-2])\n",
    "anspart    = copy.deepcopy(testDataset_raw[:, -2:])\n",
    "\n",
    "noise = copy.deepcopy(np.random.normal(0, noise_deviation, (testDataset_raw.shape[0],4)))\n",
    "\n",
    "dirtysig   = np.array(signpart+noise,dtype='float32')\n",
    "testDataset_regen = copy.deepcopy( np.concatenate((constpart, dirtysig, anspart), axis=1) )\n",
    "\n",
    "print(testDataset_regen[:10,:])\n",
    "\n",
    "testDataset = np.array((testDataset_regen - trainMean)/trainStd, dtype='float32')\n",
    "    "
   ]
  },
  {
   "cell_type": "code",
   "execution_count": null,
   "metadata": {},
   "outputs": [],
   "source": [
    "with torch.no_grad():\n",
    "    datalenth = 10000\n",
    "    index = np.random.choice(testDataset.shape[0], datalenth, replace=False)\n",
    "    \n",
    "    inputt = testDataset[index, :-2]\n",
    "    \n",
    "    inference = model(torch.from_numpy(inputt).to(device))\n",
    "    answer = testDataset_raw[index, -2:]\n",
    "    \n",
    "    inference = inference.to('cpu')\n",
    "    \n",
    "    dummy_input = torch.from_numpy(testDataset[0, :-2]).to(device)\n",
    "    \n",
    "    \n",
    "    \n",
    "    predicVal = (inference*trainStd[-2:]+trainMean[-2:])\n",
    "    predicVal = predicVal.numpy()*rad2deg\n",
    "    answerVal = answer*rad2deg\n",
    "    print('predic : ',predicVal)\n",
    "    print('Realvl : ',answerVal)\n",
    "    \n",
    "    print('\\n\\n',np.sqrt(np.sum((predicVal-answerVal)**2, axis=0)/predicVal.shape[0]))"
   ]
  },
  {
   "cell_type": "code",
   "execution_count": null,
   "metadata": {},
   "outputs": [],
   "source": [
    "testDataset[index, :-2]\n",
    "print(noise.shape)\n",
    "print(inputt.shape)\n",
    "print((noise+inputt).shape)"
   ]
  },
  {
   "cell_type": "code",
   "execution_count": null,
   "metadata": {},
   "outputs": [],
   "source": [
    "kkk = [[1,1,3],[3,8,5],[6,7,7],[8,6,2],[8,1,1]]\n",
    "kkk = np.array(kkk)"
   ]
  },
  {
   "cell_type": "code",
   "execution_count": null,
   "metadata": {},
   "outputs": [],
   "source": [
    "kkk.random.choice(5,3)"
   ]
  },
  {
   "cell_type": "code",
   "execution_count": null,
   "metadata": {},
   "outputs": [],
   "source": [
    "kkk[np.array([1,3]),0:-2]"
   ]
  },
  {
   "cell_type": "code",
   "execution_count": null,
   "metadata": {},
   "outputs": [],
   "source": [
    "mm = np.mean(kkk, axis=0)\n",
    "mm"
   ]
  },
  {
   "cell_type": "code",
   "execution_count": null,
   "metadata": {},
   "outputs": [],
   "source": [
    "ss = np.std(kkk, axis=0)\n",
    "ss"
   ]
  },
  {
   "cell_type": "code",
   "execution_count": null,
   "metadata": {},
   "outputs": [],
   "source": [
    "uu = np.sum(kkk, axis=0)\n",
    "uu"
   ]
  },
  {
   "cell_type": "code",
   "execution_count": null,
   "metadata": {},
   "outputs": [],
   "source": [
    "inference"
   ]
  },
  {
   "cell_type": "code",
   "execution_count": null,
   "metadata": {},
   "outputs": [],
   "source": [
    "torch.onnx.export(model,               # 실행될 모델\n",
    "                dummy_input,                         # 모델 입력값 (튜플 또는 여러 입력값들도 가능)\n",
    "                \"3.e-6.onnx\",   # 모델 저장 경로 (파일 또는 파일과 유사한 객체 모두 가능)\n",
    "                export_params=True,        # 모델 파일 안에 학습된 모델 가중치를 저장할지의 여부\n",
    "                opset_version=10,          # 모델을 변환할 때 사용할 ONNX 버전\n",
    "                input_names = ['input'],   # 모델의 입력값을 가리키는 이름\n",
    "                output_names = ['output'] # 모델의 출력값을 가리키는 이름\n",
    "                  )"
   ]
  },
  {
   "cell_type": "code",
   "execution_count": null,
   "metadata": {},
   "outputs": [],
   "source": [
    "#torch.save(model.state_dict(), './WEIGHT_'+str(avg_cost.item()))"
   ]
  },
  {
   "cell_type": "code",
   "execution_count": null,
   "metadata": {},
   "outputs": [],
   "source": [
    "print(avg_cost.item())"
   ]
  },
  {
   "cell_type": "code",
   "execution_count": null,
   "metadata": {},
   "outputs": [],
   "source": [
    "a= np.array([[1,2],[2,2],[3,8]],dtype='float32')\n",
    "b= np.array([[5,1],[1,3],[2,2]])"
   ]
  },
  {
   "cell_type": "code",
   "execution_count": null,
   "metadata": {},
   "outputs": [],
   "source": [
    "(a-b)"
   ]
  },
  {
   "cell_type": "code",
   "execution_count": null,
   "metadata": {},
   "outputs": [],
   "source": [
    "(a-b)**2"
   ]
  },
  {
   "cell_type": "code",
   "execution_count": null,
   "metadata": {},
   "outputs": [],
   "source": [
    "np.sum((a-b)**2, axis=0)"
   ]
  },
  {
   "cell_type": "code",
   "execution_count": null,
   "metadata": {},
   "outputs": [],
   "source": [
    "np.sum((a-b)**2, axis=0)/a.shape[0]"
   ]
  },
  {
   "cell_type": "code",
   "execution_count": null,
   "metadata": {},
   "outputs": [],
   "source": [
    "np.sqrt(np.sum((a-b)**2, axis=0)/a.shape[0])"
   ]
  },
  {
   "cell_type": "code",
   "execution_count": null,
   "metadata": {},
   "outputs": [],
   "source": [
    "a+b"
   ]
  },
  {
   "cell_type": "code",
   "execution_count": null,
   "metadata": {},
   "outputs": [],
   "source": [
    "np.concatenate((a,b,b), axis=1)"
   ]
  },
  {
   "cell_type": "code",
   "execution_count": null,
   "metadata": {},
   "outputs": [],
   "source": []
  }
 ],
 "metadata": {
  "kernelspec": {
   "display_name": "Python 3",
   "language": "python",
   "name": "python3"
  },
  "language_info": {
   "codemirror_mode": {
    "name": "ipython",
    "version": 3
   },
   "file_extension": ".py",
   "mimetype": "text/x-python",
   "name": "python",
   "nbconvert_exporter": "python",
   "pygments_lexer": "ipython3",
   "version": "3.7.9"
  }
 },
 "nbformat": 4,
 "nbformat_minor": 4
}